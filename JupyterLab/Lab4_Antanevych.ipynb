{
 "cells": [
  {
   "cell_type": "code",
   "execution_count": null,
   "id": "e257f302-0220-47a3-be10-4277f4291986",
   "metadata": {},
   "outputs": [],
   "source": [
    "#Обчислення факторіалу за допомогою циклу for\n",
    "def factorial_for(n):\n",
    "    factorial = 1\n",
    "    for i in range(1, n + 1):\n",
    "        factorial *= i\n",
    "    return factorial"
   ]
  },
  {
   "cell_type": "code",
   "execution_count": null,
   "id": "e529bb4b-9ecd-4f95-a5cc-579e9fce0dc5",
   "metadata": {},
   "outputs": [],
   "source": [
    "#Рекурсивний алгоритм обчислення факторіалу\n",
    "def fac(n):\n",
    "    if n == 0:\n",
    "        return 1\n",
    "    return fac(n - 1) * n"
   ]
  },
  {
   "cell_type": "code",
   "execution_count": null,
   "id": "a045a1c9-9a75-45f0-b971-dee0e92e029a",
   "metadata": {},
   "outputs": [],
   "source": [
    "#Рекурсивний алгоритм обчислення чисел Фібоначчі\n",
    "def fibonacci(n):\n",
    "    if n == 0:\n",
    "        return 0\n",
    "    if n in (1, 2):\n",
    "        return 1\n",
    "    return fibonacci(n - 1) + fibonacci(n - 2)"
   ]
  },
  {
   "cell_type": "code",
   "execution_count": null,
   "id": "29a8deaa-d983-4f1e-ad6c-e1a5030b6847",
   "metadata": {},
   "outputs": [],
   "source": [
    "#Алгоритм сортування злиттям (Merge Sort)\n",
    "def merge(left, right):\n",
    "    result = []\n",
    "    i = j = 0\n",
    "    while i < len(left) and j < len(right):\n",
    "        if left[i] <= right[j]:\n",
    "            result.append(left[i])\n",
    "            i += 1\n",
    "        else:\n",
    "            result.append(right[j])\n",
    "            j += 1\n",
    "    result += left[i:]\n",
    "    result += right[j:]\n",
    "    return result\n",
    "\n",
    "def mergesort(list):\n",
    "    if len(list) < 2:\n",
    "        return list\n",
    "    middle = len(list) // 2\n",
    "    left = mergesort(list[:middle])\n",
    "    right = mergesort(list[middle:])\n",
    "    return merge(left, right)"
   ]
  },
  {
   "cell_type": "code",
   "execution_count": null,
   "id": "2709c589-e836-491f-bd3b-626f32fc7647",
   "metadata": {},
   "outputs": [],
   "source": []
  }
 ],
 "metadata": {
  "kernelspec": {
   "display_name": "Python 3 (ipykernel)",
   "language": "python",
   "name": "python3"
  },
  "language_info": {
   "codemirror_mode": {
    "name": "ipython",
    "version": 3
   },
   "file_extension": ".py",
   "mimetype": "text/x-python",
   "name": "python",
   "nbconvert_exporter": "python",
   "pygments_lexer": "ipython3",
   "version": "3.13.2"
  }
 },
 "nbformat": 4,
 "nbformat_minor": 5
}
