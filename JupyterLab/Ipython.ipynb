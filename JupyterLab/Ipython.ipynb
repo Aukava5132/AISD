{
 "cells": [
  {
   "cell_type": "code",
   "execution_count": null,
   "id": "fe6b1e8c-5b76-4d3f-a02d-b98c3b84e998",
   "metadata": {},
   "outputs": [],
   "source": [
    "import time\n",
    "\n",
    "start_time = time.time()\n",
    "# Сорутвання методом вставляння\n",
    "\n",
    "def insertion_sort(nums):\n",
    "# починаємо з другого елемента\n",
    "for j in range(1, len(nums)):\n",
    "key = nums[j]\n",
    "# Зберігаємо посилання на індекс першого елемента\n",
    "i = j - 1\n",
    "# Елементи відсортованого сегрмента переміщуємо вперед, якщо вони більше\n",
    "елемента вставки\n",
    "while i >= 0 and nums[i] > key:\n",
    "nums[i + 1] = nums[i]\n",
    "i -= 1\n",
    "# Вставляємо елемент\n",
    "nums[i + 1] = key\n",
    "\n",
    "# Перевірка\n",
    "random_list_of_numbers = [0, -5, 120, 18, 21, 4]\n",
    "\n",
    "insertion_sort(random_list_of_numbers)\n",
    "print(random_list_of_numbers)\n",
    "\n",
    "print(\"--- %s seconds ---\" % (time.time() - start_time))\n",
    "[-5, 0, 4, 18, 21, 120]\n",
    "--- 0.0009963512420654297 seconds ---"
   ]
  }
 ],
 "metadata": {
  "kernelspec": {
   "display_name": "Python 3 (ipykernel)",
   "language": "python",
   "name": "python3"
  },
  "language_info": {
   "codemirror_mode": {
    "name": "ipython",
    "version": 3
   },
   "file_extension": ".py",
   "mimetype": "text/x-python",
   "name": "python",
   "nbconvert_exporter": "python",
   "pygments_lexer": "ipython3",
   "version": "3.13.2"
  }
 },
 "nbformat": 4,
 "nbformat_minor": 5
}
