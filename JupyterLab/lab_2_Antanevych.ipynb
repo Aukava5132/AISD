{
 "cells": [
  {
   "cell_type": "code",
   "execution_count": 34,
   "id": "db8a044f-e8fb-440b-b73f-338264ad6fca",
   "metadata": {},
   "outputs": [],
   "source": [
    "# Алгоритм сортування вставками\n",
    "def insertion_sort(nums):\n",
    "    for j in range(1, len(nums)):\n",
    "        key = nums[j]\n",
    "        i = j - 1\n",
    "        while i >= 0 and nums[i] > key:\n",
    "            nums[i + 1] = nums[i]\n",
    "            i -= 1\n",
    "        nums[i + 1] = key"
   ]
  },
  {
   "cell_type": "code",
   "execution_count": 35,
   "id": "05f3b667-578a-4e6b-9761-d4a272c47d6b",
   "metadata": {},
   "outputs": [],
   "source": [
    "# Алгоритм сортування бульбашкою\n",
    "def bubble_sort(nums):\n",
    "    n = len(nums)\n",
    "    for i in range(n):\n",
    "        for j in range(0, n - i - 1):\n",
    "            if nums[j] > nums[j + 1]:\n",
    "                nums[j], nums[j + 1] = nums[j + 1], nums[j]\n",
    "          "
   ]
  },
  {
   "cell_type": "code",
   "execution_count": 36,
   "id": "54080ddb-658e-4290-946d-06d9c04eaf40",
   "metadata": {},
   "outputs": [],
   "source": [
    "# Генерація випадкового масиву\n",
    "import random\n",
    "def generate_random_array(size):\n",
    "    return [random.randint(-1000, 1000) for _ in range(size)]"
   ]
  },
  {
   "cell_type": "code",
   "execution_count": 37,
   "id": "55872279-5d2a-492a-bf35-a79f126eddab",
   "metadata": {},
   "outputs": [],
   "source": [
    "# Вимірювання часу виконання\n",
    "import time\n",
    "def measure_time(sort_func, data):\n",
    "    start_time = time.time()\n",
    "    sort_func(data.copy())\n",
    "    return time.time() - start_time"
   ]
  },
  {
   "cell_type": "code",
   "execution_count": 60,
   "id": "e7f4aab3-8a84-4b97-9f6c-9b4755fe9fba",
   "metadata": {},
   "outputs": [
    {
     "name": "stdout",
     "output_type": "stream",
     "text": [
      "Insertion Sort time: 2.6226043701171875e-06\n",
      "Bubble Sort time: 3.0994415283203125e-06\n"
     ]
    }
   ],
   "source": [
    "data = generate_random_array(5)\n",
    "print(\"Insertion Sort time:\", measure_time(insertion_sort, data))\n",
    "print(\"Bubble Sort time:\", measure_time(bubble_sort, data))"
   ]
  },
  {
   "cell_type": "code",
   "execution_count": 61,
   "id": "3dda2fac-6713-48a7-be83-00d28a31d0ba",
   "metadata": {},
   "outputs": [
    {
     "name": "stdout",
     "output_type": "stream",
     "text": [
      "Insertion Sort time: 3.814697265625e-06\n",
      "Bubble Sort time: 4.76837158203125e-06\n"
     ]
    }
   ],
   "source": [
    "data = generate_random_array(10)\n",
    "print(\"Insertion Sort time:\", measure_time(insertion_sort, data))\n",
    "print(\"Bubble Sort time:\", measure_time(bubble_sort, data))"
   ]
  },
  {
   "cell_type": "code",
   "execution_count": 62,
   "id": "8c90f45a-ea72-4c1f-b27a-a1de71e1ab7e",
   "metadata": {},
   "outputs": [
    {
     "name": "stdout",
     "output_type": "stream",
     "text": [
      "Insertion Sort time: 0.00014400482177734375\n",
      "Bubble Sort time: 0.000274658203125\n"
     ]
    }
   ],
   "source": [
    "data = generate_random_array(100)\n",
    "print(\"Insertion Sort time:\", measure_time(insertion_sort, data))\n",
    "print(\"Bubble Sort time:\", measure_time(bubble_sort, data))"
   ]
  },
  {
   "cell_type": "code",
   "execution_count": 63,
   "id": "c3c20e84-9099-47eb-8c4c-ff4e34a69156",
   "metadata": {},
   "outputs": [
    {
     "name": "stdout",
     "output_type": "stream",
     "text": [
      "Insertion Sort time: 0.004280805587768555\n",
      "Bubble Sort time: 0.0075757503509521484\n"
     ]
    }
   ],
   "source": [
    "data = generate_random_array(500)\n",
    "print(\"Insertion Sort time:\", measure_time(insertion_sort, data))\n",
    "print(\"Bubble Sort time:\", measure_time(bubble_sort, data))"
   ]
  },
  {
   "cell_type": "code",
   "execution_count": 64,
   "id": "ecadc5f1-fba7-42d4-9503-14ac0f72fb70",
   "metadata": {},
   "outputs": [
    {
     "name": "stdout",
     "output_type": "stream",
     "text": [
      "Insertion Sort time: 0.02007436752319336\n",
      "Bubble Sort time: 0.041330814361572266\n"
     ]
    }
   ],
   "source": [
    "data = generate_random_array(1000)\n",
    "print(\"Insertion Sort time:\", measure_time(insertion_sort, data))\n",
    "print(\"Bubble Sort time:\", measure_time(bubble_sort, data))"
   ]
  },
  {
   "cell_type": "code",
   "execution_count": 65,
   "id": "2a7ceb2c-b73f-479a-9493-3adfe753e559",
   "metadata": {},
   "outputs": [
    {
     "name": "stdout",
     "output_type": "stream",
     "text": [
      "Insertion Sort time: 0.0776374340057373\n",
      "Bubble Sort time: 0.14690351486206055\n"
     ]
    }
   ],
   "source": [
    "data = generate_random_array(2000)\n",
    "print(\"Insertion Sort time:\", measure_time(insertion_sort, data))\n",
    "print(\"Bubble Sort time:\", measure_time(bubble_sort, data))"
   ]
  },
  {
   "cell_type": "code",
   "execution_count": 66,
   "id": "cc9a88dc-24d9-4258-9960-f54b4fa02f97",
   "metadata": {},
   "outputs": [
    {
     "name": "stdout",
     "output_type": "stream",
     "text": [
      "Insertion Sort time: 0.19089722633361816\n",
      "Bubble Sort time: 0.3380746841430664\n"
     ]
    }
   ],
   "source": [
    "data = generate_random_array(3000)\n",
    "print(\"Insertion Sort time:\", measure_time(insertion_sort, data))\n",
    "print(\"Bubble Sort time:\", measure_time(bubble_sort, data))"
   ]
  },
  {
   "cell_type": "code",
   "execution_count": 67,
   "id": "0344c938-083e-43f1-ad6e-ea82c87bd925",
   "metadata": {},
   "outputs": [
    {
     "name": "stdout",
     "output_type": "stream",
     "text": [
      "Insertion Sort time: 0.3496241569519043\n",
      "Bubble Sort time: 0.6876661777496338\n"
     ]
    }
   ],
   "source": [
    "data = generate_random_array(4000)\n",
    "print(\"Insertion Sort time:\", measure_time(insertion_sort, data))\n",
    "print(\"Bubble Sort time:\", measure_time(bubble_sort, data))"
   ]
  },
  {
   "cell_type": "code",
   "execution_count": 68,
   "id": "0b7f4746-08b9-4190-a6d6-c6192a2f05f8",
   "metadata": {},
   "outputs": [
    {
     "name": "stdout",
     "output_type": "stream",
     "text": [
      "Insertion Sort time: 0.4706387519836426\n",
      "Bubble Sort time: 0.9365949630737305\n"
     ]
    }
   ],
   "source": [
    "data = generate_random_array(5000)\n",
    "print(\"Insertion Sort time:\", measure_time(insertion_sort, data))\n",
    "print(\"Bubble Sort time:\", measure_time(bubble_sort, data))"
   ]
  },
  {
   "cell_type": "code",
   "execution_count": 69,
   "id": "cb6048f7-4980-45ec-8b1d-c3e6d89e3a16",
   "metadata": {},
   "outputs": [
    {
     "name": "stdout",
     "output_type": "stream",
     "text": [
      "Insertion Sort time: 1.773817539215088\n",
      "Bubble Sort time: 3.730407953262329\n"
     ]
    }
   ],
   "source": [
    "data = generate_random_array(10000)\n",
    "print(\"Insertion Sort time:\", measure_time(insertion_sort, data))\n",
    "print(\"Bubble Sort time:\", measure_time(bubble_sort, data))"
   ]
  },
  {
   "cell_type": "code",
   "execution_count": 70,
   "id": "45b139c1-f40f-495d-bd3a-fcfb1ef3fcd6",
   "metadata": {},
   "outputs": [
    {
     "name": "stdout",
     "output_type": "stream",
     "text": [
      "Insertion Sort time: 7.303426742553711\n",
      "Bubble Sort time: 15.53075647354126\n"
     ]
    }
   ],
   "source": [
    "data = generate_random_array(20000)\n",
    "print(\"Insertion Sort time:\", measure_time(insertion_sort, data))\n",
    "print(\"Bubble Sort time:\", measure_time(bubble_sort, data))"
   ]
  },
  {
   "cell_type": "code",
   "execution_count": 71,
   "id": "aaf4901e-ccbb-4f80-a40b-04b928dab27b",
   "metadata": {},
   "outputs": [
    {
     "name": "stdout",
     "output_type": "stream",
     "text": [
      "Insertion Sort time: 46.66807675361633\n",
      "Bubble Sort time: 96.39220952987671\n"
     ]
    }
   ],
   "source": [
    "data = generate_random_array(50000)\n",
    "print(\"Insertion Sort time:\", measure_time(insertion_sort, data))\n",
    "print(\"Bubble Sort time:\", measure_time(bubble_sort, data))"
   ]
  },
  {
   "cell_type": "code",
   "execution_count": 73,
   "id": "798b2efa-7e58-4ca6-b1f9-8fc4cb446d27",
   "metadata": {},
   "outputs": [
    {
     "name": "stdout",
     "output_type": "stream",
     "text": [
      "Insertion Sort time: 194.68651795387268\n",
      "Bubble Sort time: 412.2674493789673\n"
     ]
    }
   ],
   "source": [
    "data = generate_random_array(100000)\n",
    "print(\"Insertion Sort time:\", measure_time(insertion_sort, data))\n",
    "print(\"Bubble Sort time:\", measure_time(bubble_sort, data))"
   ]
  },
  {
   "cell_type": "code",
   "execution_count": null,
   "id": "38df0443-9f3c-4a24-842e-fdda30949f7f",
   "metadata": {},
   "outputs": [],
   "source": []
  }
 ],
 "metadata": {
  "kernelspec": {
   "display_name": "Python 3 (ipykernel)",
   "language": "python",
   "name": "python3"
  },
  "language_info": {
   "codemirror_mode": {
    "name": "ipython",
    "version": 3
   },
   "file_extension": ".py",
   "mimetype": "text/x-python",
   "name": "python",
   "nbconvert_exporter": "python",
   "pygments_lexer": "ipython3",
   "version": "3.13.2"
  }
 },
 "nbformat": 4,
 "nbformat_minor": 5
}
